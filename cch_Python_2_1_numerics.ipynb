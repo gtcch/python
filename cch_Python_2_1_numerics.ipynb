{
  "nbformat": 4,
  "nbformat_minor": 0,
  "metadata": {
    "colab": {
      "name": "cch_Python_2_1_numerics.ipynb",
      "version": "0.3.2",
      "provenance": [],
      "collapsed_sections": [],
      "include_colab_link": true
    },
    "kernelspec": {
      "name": "python3",
      "display_name": "Python 3"
    }
  },
  "cells": [
    {
      "cell_type": "markdown",
      "metadata": {
        "id": "view-in-github",
        "colab_type": "text"
      },
      "source": [
        "<a href=\"https://colab.research.google.com/github/gtcch/python/blob/master/cch_Python_2_1_numerics.ipynb\" target=\"_parent\"><img src=\"https://colab.research.google.com/assets/colab-badge.svg\" alt=\"Open In Colab\"/></a>"
      ]
    },
    {
      "cell_type": "markdown",
      "metadata": {
        "id": "SI2rkSJyRL4I",
        "colab_type": "text"
      },
      "source": [
        "# Python 支持三種不同的數值型別(Data Type)：\n",
        "\n",
        "[1]Int 整數，是可以是正或負整數，不帶小數點。\n",
        "\n",
        "Python3  int是沒有限制大小的，可以當作 Long 類型使用，所以 Python3 沒有 Python2 的 Long 類型。\n",
        "\n",
        "[2]浮點數(float) :由整數部分與小數部分組成，浮點型也可以使用科學計數法表示（2.5e2 = 2.5 x 10 0 = 250）\n",
        "\n",
        "[3]複數( (complex)) - 複數由實數部分和虛數部分構成，可以用a + bj,或者complex(a,b)表示， 複數的實部a和虛部b都是浮點型。\n"
      ]
    },
    {
      "cell_type": "code",
      "metadata": {
        "id": "hofBvq3tVnSc",
        "colab_type": "code",
        "colab": {}
      },
      "source": [
        ""
      ],
      "execution_count": 0,
      "outputs": []
    },
    {
      "cell_type": "markdown",
      "metadata": {
        "id": "jWam6cxPPXBG",
        "colab_type": "text"
      },
      "source": [
        "https://www.w3schools.com/python/python_exercises.asp"
      ]
    },
    {
      "cell_type": "markdown",
      "metadata": {
        "id": "aF8yIxuDRvAh",
        "colab_type": "text"
      },
      "source": [
        "# 數值型別(Numerics Data Type)的各種運算:"
      ]
    },
    {
      "cell_type": "markdown",
      "metadata": {
        "id": "BV5qoPqOpYV-",
        "colab_type": "text"
      },
      "source": [
        "```\n",
        "算術運算子\n",
        "比較（關係）運算子\n",
        "賦值運算子\n",
        "邏輯運算符\n",
        "位元運算子\n",
        "成員運算子\n",
        "身份運算子\n",
        "```\n",
        "\n",
        "底下以範例快速示範\n",
        "\n",
        "同學請勤作練習,完成你自己的python學習之路\n",
        "\n",
        "https://www.w3schools.com/python/python_operators.asp\n"
      ]
    },
    {
      "cell_type": "code",
      "metadata": {
        "id": "z2U6D7nTW-ui",
        "colab_type": "code",
        "outputId": "ccf3942b-7d61-4d35-dfec-eff49a690068",
        "colab": {
          "base_uri": "https://localhost:8080/",
          "height": 35
        }
      },
      "source": [
        "-3%2"
      ],
      "execution_count": 0,
      "outputs": [
        {
          "output_type": "execute_result",
          "data": {
            "text/plain": [
              "1"
            ]
          },
          "metadata": {
            "tags": []
          },
          "execution_count": 1
        }
      ]
    },
    {
      "cell_type": "markdown",
      "metadata": {
        "id": "fPpXs2QlTxeJ",
        "colab_type": "text"
      },
      "source": [
        "# 算術運算"
      ]
    },
    {
      "cell_type": "code",
      "metadata": {
        "id": "eVJ3tQnvUPwq",
        "colab_type": "code",
        "outputId": "1669bfa7-25d6-4808-a7a4-16d70d943082",
        "colab": {
          "base_uri": "https://localhost:8080/",
          "height": 34
        }
      },
      "source": [
        "a = 17 / 3\n",
        "\n",
        "b = 17 // 3\n",
        "\n",
        "c = 17 % 3\n",
        "\n",
        "a,b,c"
      ],
      "execution_count": 0,
      "outputs": [
        {
          "output_type": "execute_result",
          "data": {
            "text/plain": [
              "(5.666666666666667, 5, 2)"
            ]
          },
          "metadata": {
            "tags": []
          },
          "execution_count": 10
        }
      ]
    },
    {
      "cell_type": "code",
      "metadata": {
        "id": "oOZAI3BkT8rR",
        "colab_type": "code",
        "outputId": "2c0c8eea-58aa-4971-c77d-b2cfcd50091d",
        "colab": {
          "base_uri": "https://localhost:8080/",
          "height": 34
        }
      },
      "source": [
        "a = 7//2\n",
        "b = 7.0//2\n",
        "c = 7//2.0\n",
        "\n",
        "a,b,c"
      ],
      "execution_count": 0,
      "outputs": [
        {
          "output_type": "execute_result",
          "data": {
            "text/plain": [
              "(3, 3.0, 3.0)"
            ]
          },
          "metadata": {
            "tags": []
          },
          "execution_count": 8
        }
      ]
    },
    {
      "cell_type": "code",
      "metadata": {
        "id": "1yvv-4yQT0ZR",
        "colab_type": "code",
        "outputId": "bbbe96cc-273c-4788-d703-e8a322c2bf7c",
        "colab": {
          "base_uri": "https://localhost:8080/",
          "height": 34
        }
      },
      "source": [
        "5 ** 2 "
      ],
      "execution_count": 0,
      "outputs": [
        {
          "output_type": "execute_result",
          "data": {
            "text/plain": [
              "25"
            ]
          },
          "metadata": {
            "tags": []
          },
          "execution_count": 7
        }
      ]
    },
    {
      "cell_type": "markdown",
      "metadata": {
        "id": "o6_RbkesU6dW",
        "colab_type": "text"
      },
      "source": [
        "## _"
      ]
    },
    {
      "cell_type": "code",
      "metadata": {
        "id": "HLDHJcboUn9X",
        "colab_type": "code",
        "outputId": "e5356180-fc89-4697-da85-4090bea65462",
        "colab": {
          "base_uri": "https://localhost:8080/",
          "height": 35
        }
      },
      "source": [
        "tax = 12.5 / 100\n",
        "price = 100.50\n",
        "price * tax"
      ],
      "execution_count": 0,
      "outputs": [
        {
          "output_type": "execute_result",
          "data": {
            "text/plain": [
              "12.5625"
            ]
          },
          "metadata": {
            "tags": []
          },
          "execution_count": 2
        }
      ]
    },
    {
      "cell_type": "code",
      "metadata": {
        "id": "rRBkAPtZUsvh",
        "colab_type": "code",
        "outputId": "b1b0079e-a583-41a0-bd5c-807e871f7dc4",
        "colab": {
          "base_uri": "https://localhost:8080/",
          "height": 35
        }
      },
      "source": [
        "price + _"
      ],
      "execution_count": 0,
      "outputs": [
        {
          "output_type": "execute_result",
          "data": {
            "text/plain": [
              "113.0625"
            ]
          },
          "metadata": {
            "tags": []
          },
          "execution_count": 3
        }
      ]
    },
    {
      "cell_type": "code",
      "metadata": {
        "id": "Wa_g7Gn_U1Cb",
        "colab_type": "code",
        "outputId": "99366ac4-1a66-4142-cc9c-bdc1c9d0478f",
        "colab": {
          "base_uri": "https://localhost:8080/",
          "height": 35
        }
      },
      "source": [
        "round(_, 2)"
      ],
      "execution_count": 0,
      "outputs": [
        {
          "output_type": "execute_result",
          "data": {
            "text/plain": [
              "113.06"
            ]
          },
          "metadata": {
            "tags": []
          },
          "execution_count": 4
        }
      ]
    },
    {
      "cell_type": "code",
      "metadata": {
        "id": "tsy3g8hzXw0o",
        "colab_type": "code",
        "outputId": "bad3fd25-deda-4ab5-f204-1acfc9837239",
        "colab": {
          "base_uri": "https://localhost:8080/",
          "height": 35
        }
      },
      "source": [
        "round(_)"
      ],
      "execution_count": 0,
      "outputs": [
        {
          "output_type": "execute_result",
          "data": {
            "text/plain": [
              "113"
            ]
          },
          "metadata": {
            "tags": []
          },
          "execution_count": 5
        }
      ]
    },
    {
      "cell_type": "markdown",
      "metadata": {
        "id": "y0a29GmqW-tj",
        "colab_type": "text"
      },
      "source": [
        "## Logical Operators::"
      ]
    },
    {
      "cell_type": "code",
      "metadata": {
        "id": "InqmG-v5XHgG",
        "colab_type": "code",
        "colab": {}
      },
      "source": [
        "x = 5\n",
        "\n",
        "print(x > 3 and x < 10)"
      ],
      "execution_count": 0,
      "outputs": []
    },
    {
      "cell_type": "code",
      "metadata": {
        "id": "G2lxmNp-XSR4",
        "colab_type": "code",
        "colab": {}
      },
      "source": [
        "x = 5\n",
        "\n",
        "print(x > 3 or x < 4)"
      ],
      "execution_count": 0,
      "outputs": []
    },
    {
      "cell_type": "code",
      "metadata": {
        "id": "ASCx8tStXY4Q",
        "colab_type": "code",
        "colab": {}
      },
      "source": [
        "x = 5\n",
        "\n",
        "print(not(x > 3 and x < 10))"
      ],
      "execution_count": 0,
      "outputs": []
    },
    {
      "cell_type": "markdown",
      "metadata": {
        "id": "DfAz7MZFWLnY",
        "colab_type": "text"
      },
      "source": [
        "## Bitwise Operators"
      ]
    },
    {
      "cell_type": "code",
      "metadata": {
        "id": "Cp0DnJLgVX7X",
        "colab_type": "code",
        "outputId": "6da279c6-3cb1-4021-e031-9447db5f721d",
        "colab": {
          "base_uri": "https://localhost:8080/",
          "height": 154
        }
      },
      "source": [
        "#!/usr/bin/python3\n",
        " \n",
        "a = 60            # 60 = 0011 1100 \n",
        "b = 13            # 13 = 0000 1101 \n",
        "c = 0\n",
        "\n",
        "print (\"0 - a =  60 = 0011 1100(二進位) \")\n",
        "print (\"0 - b =  13 = 0000 1101(二進位) \")\n",
        "c = a & b;        # 12 = 0000 1100\n",
        "print (\"1 - c = a & b的值為：\", c)\n",
        " \n",
        "c = a | b;        # 61 = 0011 1101 \n",
        "print (\"2 - c = a | b的值為：\", c)\n",
        " \n",
        "c = a ^ b;        # 49 = 0011 0001\n",
        "print (\"3 - c= a ^ b 的值為：\", c)\n",
        " \n",
        "c = ~a;           # -61 = 1100 0011\n",
        "print (\"4 - c = ~a的值為：\", c)\n",
        " \n",
        "c = a << 2;       # 240 = 1111 0000\n",
        "print (\"5 - c = a << 2的值為：\", c)\n",
        " \n",
        "c = a >> 2;       # 15 = 0000 1111\n",
        "print (\"6 - c = a >> 2的值為：\", c)\n"
      ],
      "execution_count": 0,
      "outputs": [
        {
          "output_type": "stream",
          "text": [
            "0 - a =  60 = 0011 1100(二進位) \n",
            "0 - b =  13 = 0000 1101(二進位) \n",
            "1 - c = a & b的值為： 12\n",
            "2 - c = a | b的值為： 61\n",
            "3 - c= a ^ b 的值為： 49\n",
            "4 - c = ~a的值為： -61\n",
            "5 - c = a << 2的值為： 240\n",
            "6 - c = a >> 2的值為： 15\n"
          ],
          "name": "stdout"
        }
      ]
    },
    {
      "cell_type": "markdown",
      "metadata": {
        "id": "qqh-ogSCTTwl",
        "colab_type": "text"
      },
      "source": [
        "## 進位制:"
      ]
    },
    {
      "cell_type": "code",
      "metadata": {
        "id": "1DN7ABxMTbzy",
        "colab_type": "code",
        "outputId": "b3114a6d-1638-42d4-9b19-2028c53552f3",
        "colab": {
          "base_uri": "https://localhost:8080/",
          "height": 35
        }
      },
      "source": [
        "number1 = 0b1000111\n",
        "number1"
      ],
      "execution_count": 0,
      "outputs": [
        {
          "output_type": "execute_result",
          "data": {
            "text/plain": [
              "71"
            ]
          },
          "metadata": {
            "tags": []
          },
          "execution_count": 7
        }
      ]
    },
    {
      "cell_type": "code",
      "metadata": {
        "id": "XeFg3cTzSbAv",
        "colab_type": "code",
        "outputId": "58ccb7bb-4180-4bf3-d78f-a81fcfc639cc",
        "colab": {
          "base_uri": "https://localhost:8080/",
          "height": 35
        }
      },
      "source": [
        "number2 = 0xA0F\n",
        "number2"
      ],
      "execution_count": 0,
      "outputs": [
        {
          "output_type": "execute_result",
          "data": {
            "text/plain": [
              "2575"
            ]
          },
          "metadata": {
            "tags": []
          },
          "execution_count": 8
        }
      ]
    },
    {
      "cell_type": "code",
      "metadata": {
        "id": "Rrlwxx-iSlmU",
        "colab_type": "code",
        "outputId": "e73c00e3-3c06-49df-ad16-e1bdeb4704d9",
        "colab": {
          "base_uri": "https://localhost:8080/",
          "height": 35
        }
      },
      "source": [
        "number3 = 0o37 \n",
        "number3"
      ],
      "execution_count": 0,
      "outputs": [
        {
          "output_type": "execute_result",
          "data": {
            "text/plain": [
              "31"
            ]
          },
          "metadata": {
            "tags": []
          },
          "execution_count": 9
        }
      ]
    },
    {
      "cell_type": "markdown",
      "metadata": {
        "id": "OsSsKS06Xt5r",
        "colab_type": "text"
      },
      "source": [
        "## 各種數學函數\n",
        "\n",
        "https://www.w3schools.com/python/python_ref_functions.asp"
      ]
    },
    {
      "cell_type": "markdown",
      "metadata": {
        "id": "nZbgl8njX7Dv",
        "colab_type": "text"
      },
      "source": [
        "### 作業:完成十種函數的自我測試報告"
      ]
    },
    {
      "cell_type": "markdown",
      "metadata": {
        "id": "3G4QcFxzaNMe",
        "colab_type": "text"
      },
      "source": [
        "## 進位轉換"
      ]
    },
    {
      "cell_type": "code",
      "metadata": {
        "id": "vFRak2kJYIWq",
        "colab_type": "code",
        "colab": {}
      },
      "source": [
        "x = bin(36)\n",
        "x"
      ],
      "execution_count": 0,
      "outputs": []
    },
    {
      "cell_type": "code",
      "metadata": {
        "id": "ugBQZmaPaG1O",
        "colab_type": "code",
        "colab": {}
      },
      "source": [
        "x = oct(36)\n",
        "x"
      ],
      "execution_count": 0,
      "outputs": []
    },
    {
      "cell_type": "code",
      "metadata": {
        "id": "3IhvQxf9YZQH",
        "colab_type": "code",
        "colab": {}
      },
      "source": [
        "x = hex(255)\n",
        "x"
      ],
      "execution_count": 0,
      "outputs": []
    },
    {
      "cell_type": "markdown",
      "metadata": {
        "id": "8IPnkyjCZ5WJ",
        "colab_type": "text"
      },
      "source": [
        "## int()函數的測試\n",
        "\n",
        "https://www.w3schools.com/python/ref_func_int.asp"
      ]
    },
    {
      "cell_type": "code",
      "metadata": {
        "id": "j_ibK4KYZLHD",
        "colab_type": "code",
        "colab": {}
      },
      "source": [
        "x=int('10',2)\n",
        "x"
      ],
      "execution_count": 0,
      "outputs": []
    },
    {
      "cell_type": "code",
      "metadata": {
        "id": "RFeCCY9MZIhm",
        "colab_type": "code",
        "colab": {}
      },
      "source": [
        "x=int('10',16)\n",
        "x"
      ],
      "execution_count": 0,
      "outputs": []
    },
    {
      "cell_type": "code",
      "metadata": {
        "id": "IvlKNExgY9ex",
        "colab_type": "code",
        "colab": {}
      },
      "source": [
        "x=int('10',8)\n",
        "x"
      ],
      "execution_count": 0,
      "outputs": []
    },
    {
      "cell_type": "markdown",
      "metadata": {
        "id": "2ozwELWKaZYk",
        "colab_type": "text"
      },
      "source": [
        "## round()函數的測試"
      ]
    },
    {
      "cell_type": "code",
      "metadata": {
        "id": "cY0lgEiaYfMf",
        "colab_type": "code",
        "colab": {}
      },
      "source": [
        "#Round a number to only two decimals:\n",
        "\n",
        "x = round(5.76543, 2)\n",
        "print(x)"
      ],
      "execution_count": 0,
      "outputs": []
    },
    {
      "cell_type": "code",
      "metadata": {
        "id": "BfF8zsiSYqOy",
        "colab_type": "code",
        "colab": {}
      },
      "source": [
        "# Round to the nearest integer:\n",
        "\n",
        "x = round(5.76543)\n",
        "print(x)"
      ],
      "execution_count": 0,
      "outputs": []
    },
    {
      "cell_type": "markdown",
      "metadata": {
        "id": "wwmyItTLS0wm",
        "colab_type": "text"
      },
      "source": [
        "## Python 類型轉換\n",
        "\n",
        "有時候，我們需要對資料內置的類型進行轉換，\n",
        "\n",
        "資料類型的轉換只需要將資料類型作為函數名即可。\n",
        "\n",
        "\n",
        "int(x) 將x轉換為一個整數。\n",
        "\n",
        "float(x) 將x轉換到一個浮點數。\n",
        "\n",
        "complex(x) 將x轉換到一個複數，實數部分為 x，虛數部分為 0。\n",
        "\n",
        "complex(x, y) 將 x 和 y 轉換到一個複數，實數部分為 x，虛數部分為 y。x 和 y 是數字運算式。\n"
      ]
    },
    {
      "cell_type": "code",
      "metadata": {
        "id": "gFZO0ejBS_H7",
        "colab_type": "code",
        "colab": {}
      },
      "source": [
        "a = 1.0004\n",
        "int(a)"
      ],
      "execution_count": 0,
      "outputs": []
    },
    {
      "cell_type": "code",
      "metadata": {
        "id": "_VFAdFbjTDRP",
        "colab_type": "code",
        "colab": {}
      },
      "source": [
        "b = 0.9999\n",
        "int(a)"
      ],
      "execution_count": 0,
      "outputs": []
    },
    {
      "cell_type": "markdown",
      "metadata": {
        "id": "qJjMmE-sR8Yg",
        "colab_type": "text"
      },
      "source": [
        "# 運算子優先順序"
      ]
    },
    {
      "cell_type": "markdown",
      "metadata": {
        "id": "MwonuFxhu-e3",
        "colab_type": "text"
      },
      "source": [
        "# picoCTF 2017 : compute-rsa-50\n",
        "\n",
        "RSA encryption/decryption is based on a formula that anyone can find and use, as long as they know the values to plug in. Given the encrypted number 150815, d = 1941, and N = 435979, what is the decrypted number?\n",
        "\n",
        "HINTS\n",
        "\n",
        "decrypted = (encrypted) ^ d mod N"
      ]
    }
  ]
}